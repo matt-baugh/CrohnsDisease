{
 "cells": [
  {
   "cell_type": "code",
   "execution_count": null,
   "metadata": {},
   "outputs": [],
   "source": [
    "import os\n",
    "import numpy as np\n",
    "import matplotlib.pyplot as plt\n",
    "\n",
    "data_path = '/vol/bitbucket/mb4617/MRI_Crohns/numpy_datasets'\n",
    "\n",
    "def wl_to_lh(window, level):\n",
    "    low = level - window/2\n",
    "    high = level + window/2\n",
    "    return low,high\n",
    "\n",
    "def display_image(img, size, x=None, y=None, z=None, window=None, level=None, existing_ax=None):\n",
    "    depth, height, width = size\n",
    "\n",
    "    if x is None:\n",
    "        x = np.floor(size[0]/2).astype(int)\n",
    "    if y is None:\n",
    "        y = np.floor(size[1]/2).astype(int)\n",
    "    if z is None:\n",
    "        z = np.floor(size[2]/2).astype(int)\n",
    "\n",
    "    if window is None:\n",
    "        window = np.max(img_array) - np.min(img_array)\n",
    "\n",
    "    if level is None:\n",
    "        level = window / 2 + np.min(img_array)\n",
    "\n",
    "    low,high = wl_to_lh(window,level)\n",
    "\n",
    "    if existing_ax is None:\n",
    "        # Display the orthogonal slices\n",
    "        fig, axes = plt.subplots(1, 3, figsize=(14, 8))\n",
    "    else:\n",
    "        axes = existing_ax\n",
    "\n",
    "    axes[0].imshow(img_array[z,:,:], cmap='gray', clim=(low, high), extent=(0, width, height, 0))\n",
    "    axes[1].imshow(img_array[:,y,:], origin='lower', cmap='gray', clim=(low, high), extent=(0, width,  0, depth))\n",
    "    axes[2].imshow(img_array[:,:,x], origin='lower', cmap='gray', clim=(low, high), extent=(0, height, 0, depth))\n",
    "\n",
    "    # Additionally display crosshairs\n",
    "    axes[0].axhline(y * spacing[1], lw=1)\n",
    "    axes[0].axvline(x * spacing[0], lw=1)\n",
    "\n",
    "    axes[1].axhline(z * spacing[2], lw=1)\n",
    "    axes[1].axvline(x * spacing[0], lw=1)\n",
    "\n",
    "    axes[2].axhline(z * spacing[2], lw=1)\n",
    "    axes[2].axvline(y * spacing[1], lw=1)\n",
    "\n",
    "    if existing_ax is None:\n",
    "        plt.show()\n",
    "\n",
    "        \n",
    "def display_patient(p):\n",
    "    p_imgs = [p.axial_image, p.coronal_image, p.axial_postcon_image]\n",
    "    fig, axes = plt.subplots(3, 3, figsize=(14, 24))\n",
    "\n",
    "    for i in range(3):\n",
    "        display_image(p_imgs[i], existing_ax=axes[i])\n",
    "    plt.show()\n"
   ]
  },
  {
   "cell_type": "code",
   "execution_count": null,
   "metadata": {},
   "outputs": [],
   "source": [
    "localised_box_size = np.array([80, 80, 112])\n",
    "generalised_box_size = np.array([0.289, 0.307483, 0.4804149]) * 200\n",
    "\n",
    "folder = 'ti_imb'\n",
    "fold = 0"
   ]
  }
 ],
 "metadata": {
  "kernelspec": {
   "display_name": "Python 3",
   "language": "python",
   "name": "python3"
  },
  "language_info": {
   "codemirror_mode": {
    "name": "ipython",
    "version": 3
   },
   "file_extension": ".py",
   "mimetype": "text/x-python",
   "name": "python",
   "nbconvert_exporter": "python",
   "pygments_lexer": "ipython3",
   "version": "3.8.5"
  }
 },
 "nbformat": 4,
 "nbformat_minor": 1
}

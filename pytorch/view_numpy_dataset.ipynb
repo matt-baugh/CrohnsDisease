{
 "cells": [
  {
   "cell_type": "code",
   "execution_count": null,
   "metadata": {},
   "outputs": [],
   "source": [
    "import os\n",
    "import numpy as np\n",
    "import matplotlib.pyplot as plt\n",
    "\n",
    "def wl_to_lh(window, level):\n",
    "    low = level - window/2\n",
    "    high = level + window/2\n",
    "    return low,high\n",
    "\n",
    "def display_image(img, phys_size, x=None, y=None, z=None, window=None, level=None, existing_ax=None):\n",
    "    width, height, depth = phys_size\n",
    "    \n",
    "    size = np.flip(img.shape)\n",
    "    spacing = phys_size / size\n",
    "\n",
    "    if x is None:\n",
    "        x = np.floor(size[0]/2).astype(int)\n",
    "    if y is None:\n",
    "        y = np.floor(size[1]/2).astype(int)\n",
    "    if z is None:\n",
    "        z = np.floor(size[2]/2).astype(int)\n",
    "\n",
    "    if window is None:\n",
    "        window = np.max(img) - np.min(img)\n",
    "\n",
    "    if level is None:\n",
    "        level = window / 2 + np.min(img)\n",
    "\n",
    "    low,high = wl_to_lh(window,level)\n",
    "\n",
    "    if existing_ax is None:\n",
    "        # Display the orthogonal slices\n",
    "        fig, axes = plt.subplots(1, 3, figsize=(14, 8))\n",
    "    else:\n",
    "        axes = existing_ax\n",
    "\n",
    "    axes[0].imshow(img[z,:,:], cmap='gray', clim=(low, high), extent=(0, width, height, 0))\n",
    "    axes[1].imshow(img[:,y,:], origin='lower', cmap='gray', clim=(low, high), extent=(0, width,  0, depth))\n",
    "    axes[2].imshow(img[:,:,x], origin='lower', cmap='gray', clim=(low, high), extent=(0, height, 0, depth))\n",
    "\n",
    "    # Additionally display crosshairs\n",
    "    axes[0].axhline(y * spacing[1], lw=1)\n",
    "    axes[0].axvline(x * spacing[0], lw=1)\n",
    "\n",
    "    axes[1].axhline(z * spacing[2], lw=1)\n",
    "    axes[1].axvline(x * spacing[0], lw=1)\n",
    "\n",
    "    axes[2].axhline(z * spacing[2], lw=1)\n",
    "    axes[2].axvline(y * spacing[1], lw=1)\n",
    "\n",
    "    if existing_ax is None:\n",
    "        plt.show()"
   ]
  },
  {
   "cell_type": "code",
   "execution_count": null,
   "metadata": {},
   "outputs": [],
   "source": [
    "localised_box_size = np.array([80, 80, 112])\n",
    "generalised_box_size = np.array([0.289, 0.307483, 0.4804149]) * 200\n",
    "\n",
    "\n",
    "data_path = '/vol/bitbucket/mb4617/MRI_Crohns/numpy_datasets'\n",
    "folder = 'ti_imb'\n",
    "suffix = 'all_data'\n",
    "fold = 0\n",
    "train_mode = True\n",
    "mode_str = 'train' if train_mode else 'test'\n",
    "\n",
    "dataset_path = f'{data_path}/{folder}/{suffix}_{mode_str}_fold{fold}.npz'"
   ]
  },
  {
   "cell_type": "code",
   "execution_count": null,
   "metadata": {},
   "outputs": [],
   "source": [
    "np_dataset = np.load(dataset_path)\n",
    "\n",
    "data = np.stack([np_dataset['axial_t2'], np_dataset['coronal_t2'], np_dataset['axial_pc']], axis=1)"
   ]
  },
  {
   "cell_type": "code",
   "execution_count": null,
   "metadata": {},
   "outputs": [],
   "source": [
    "def display_patient(i):\n",
    "    print(np_dataset['index'][i])\n",
    "    print(np_dataset['label'][i])\n",
    "    display_image(data[i][0], localised_box_size)\n",
    "    display_image(data[i][1], localised_box_size)\n",
    "    display_image(data[i][2], localised_box_size)"
   ]
  },
  {
   "cell_type": "code",
   "execution_count": null,
   "metadata": {},
   "outputs": [],
   "source": [
    "display_patient(14)"
   ]
  },
  {
   "cell_type": "code",
   "execution_count": null,
   "metadata": {},
   "outputs": [],
   "source": [
    "from mri_dataset import MRIDataset"
   ]
  },
  {
   "cell_type": "code",
   "execution_count": null,
   "metadata": {},
   "outputs": [],
   "source": [
    "torch_dataset = MRIDataset(dataset_path, True, [87, 87, 87], [1, 1, 1])\n",
    "\n",
    "def display_patient_torch(i):\n",
    "    sample = torch_dataset[i][0]\n",
    "    display_image(sample[0].numpy(), localised_box_size)\n",
    "    display_image(sample[1].numpy(), localised_box_size)\n",
    "    display_image(sample[2].numpy(), localised_box_size)"
   ]
  },
  {
   "cell_type": "code",
   "execution_count": null,
   "metadata": {},
   "outputs": [],
   "source": [
    "print(torch_dataset[14][0].shape)\n",
    "display_patient_torch(14)"
   ]
  },
  {
   "cell_type": "code",
   "execution_count": null,
   "metadata": {},
   "outputs": [],
   "source": [
    "print(torch_dataset[14][0].shape)\n",
    "display_patient_torch(14)"
   ]
  },
  {
   "cell_type": "code",
   "execution_count": null,
   "metadata": {},
   "outputs": [],
   "source": []
  }
 ],
 "metadata": {
  "kernelspec": {
   "display_name": "Python 3",
   "language": "python",
   "name": "python3"
  },
  "language_info": {
   "codemirror_mode": {
    "name": "ipython",
    "version": 3
   },
   "file_extension": ".py",
   "mimetype": "text/x-python",
   "name": "python",
   "nbconvert_exporter": "python",
   "pygments_lexer": "ipython3",
   "version": "3.8.5"
  }
 },
 "nbformat": 4,
 "nbformat_minor": 1
}

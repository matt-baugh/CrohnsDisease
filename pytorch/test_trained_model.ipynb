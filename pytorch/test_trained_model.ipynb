{
 "cells": [
  {
   "cell_type": "code",
   "execution_count": null,
   "metadata": {},
   "outputs": [],
   "source": [
    "import os\n",
    "import numpy as np\n",
    "import matplotlib.pyplot as plt\n",
    "from mri_dataset import MRIDataset\n",
    "from pytorch_resnet import PytorchResNet3D\n",
    "import torch\n",
    "import torch.nn.functional as F\n",
    "\n",
    "def wl_to_lh(window, level):\n",
    "    low = level - window/2\n",
    "    high = level + window/2\n",
    "    return low,high\n",
    "\n",
    "def display_image(img, phys_size, x=None, y=None, z=None, window=None, level=None, existing_ax=None):\n",
    "    width, height, depth = phys_size\n",
    "    \n",
    "    size = np.flip(img.shape)\n",
    "    spacing = phys_size / size\n",
    "\n",
    "    if x is None:\n",
    "        x = np.floor(size[0]/2).astype(int)\n",
    "    if y is None:\n",
    "        y = np.floor(size[1]/2).astype(int)\n",
    "    if z is None:\n",
    "        z = np.floor(size[2]/2).astype(int)\n",
    "\n",
    "    if window is None:\n",
    "        window = np.max(img) - np.min(img)\n",
    "\n",
    "    if level is None:\n",
    "        level = window / 2 + np.min(img)\n",
    "\n",
    "    low,high = wl_to_lh(window,level)\n",
    "\n",
    "    if existing_ax is None:\n",
    "        # Display the orthogonal slices\n",
    "        fig, axes = plt.subplots(1, 3, figsize=(14, 8))\n",
    "    else:\n",
    "        axes = existing_ax\n",
    "\n",
    "    axes[0].imshow(img[z,:,:], cmap='gray', clim=(low, high), extent=(0, width, height, 0))\n",
    "    axes[1].imshow(img[:,y,:], origin='lower', cmap='gray', clim=(low, high), extent=(0, width,  0, depth))\n",
    "    axes[2].imshow(img[:,:,x], origin='lower', cmap='gray', clim=(low, high), extent=(0, height, 0, depth))\n",
    "\n",
    "    if existing_ax is None:\n",
    "        plt.show()\n",
    "\n",
    "def display_patient_torch(d_set, i, box_size):\n",
    "    sample = d_set[i][0]\n",
    "    display_image(sample[0].numpy(), box_size)\n",
    "    display_image(sample[1].numpy(), box_size)\n",
    "    display_image(sample[2].numpy(), box_size)"
   ]
  },
  {
   "cell_type": "code",
   "execution_count": null,
   "metadata": {},
   "outputs": [],
   "source": [
    "\n",
    "localised_box_size = np.array([80, 80, 112])\n",
    "generalised_box_size = np.array([0.289, 0.307483, 0.4804149]) * 200\n",
    "\n",
    "base = '/vol/bitbucket/mb4617'\n",
    "data_path = f'{base}/MRI_Crohns_Extended/numpy_datasets'\n",
    "models_path = f'{base}/CrohnsDisease/trained_models'\n",
    "suffix = 'all_data'\n",
    "\n",
    "all_modalities = True\n",
    "localisation = True\n",
    "attention = True\n",
    "fold = 0\n",
    "even_res = False\n",
    "experiment_round = 4\n",
    "\n",
    "in_dims = [99 if even_res else 37, 99, 99]\n",
    "out_dims = [87 if even_res else 31, 87, 87]\n",
    "input_features = [1, 1, 1] if all_modalities else [1, 0, 0]\n",
    "folder = 'ti' if localisation else 'ti_generic_larger'\n",
    "res_str = 'even' if even_res else 'low_axial'\n",
    "box_size = localised_box_size if localisation else generalised_box_size\n",
    "\n",
    "train_dataset_path = f'{data_path}/{folder}/{suffix}_{res_str}_res_train_fold{fold}.npz'\n",
    "test_dataset_path = f'{data_path}/{folder}/{suffix}_{res_str}_res_test_fold{fold}.npz'\n",
    "\n",
    "print(train_dataset_path)\n",
    "\n",
    "train_dataset = MRIDataset(train_dataset_path, False, in_dims, out_dims, input_features)\n",
    "test_dataset = MRIDataset(test_dataset_path, False, in_dims, out_dims, input_features)"
   ]
  },
  {
   "cell_type": "code",
   "execution_count": null,
   "metadata": {},
   "outputs": [],
   "source": [
    "curr_model_path = f'{models_path}/{experiment_round}/axial_only_extended_dataset_mode{int(all_modalities)}loc{int(localisation)}att{int(attention)}/fold{fold}'\n",
    "\n",
    "print(curr_model_path)\n",
    "\n",
    "model = PytorchResNet3D(out_dims, attention, 0.5, sum(input_features))\n",
    "\n",
    "model.load_state_dict(torch.load(curr_model_path))\n",
    "model.eval()\n",
    "\n",
    "device = torch.device('cuda')\n",
    "model.to(device=device)\n",
    "print('Device: ', device)"
   ]
  },
  {
   "cell_type": "code",
   "execution_count": null,
   "metadata": {},
   "outputs": [],
   "source": [
    "from sklearn.metrics import classification_report\n",
    "\n",
    "def dataset_stats(dataset):\n",
    "    labels, binary_labels, losses, preds = [], [], [], []\n",
    "    \n",
    "    for i in range(len(dataset)):\n",
    "        data, label = dataset[i]\n",
    "        binary_label = torch.tensor(0 if label == 0 else 1)\n",
    "        batched_data = data.unsqueeze(0).to(device=device)\n",
    "\n",
    "        with torch.no_grad():\n",
    "            out = model(batched_data).cpu()\n",
    "        \n",
    "        labels.append(label.item())\n",
    "        binary_labels.append(binary_label.item())\n",
    "        losses.append(F.cross_entropy(out, binary_label.unsqueeze(0)).item())\n",
    "        preds.append(out.argmax(dim=1).squeeze().item())\n",
    "        \n",
    "    print(np.array(labels))\n",
    "    print(np.array(binary_labels))\n",
    "    print(preds)\n",
    "    print('Average loss: ', torch.mean(torch.tensor(losses)))\n",
    "    print(classification_report(binary_labels, preds, target_names=['healthy', 'abnormal'], zero_division=0))"
   ]
  },
  {
   "cell_type": "code",
   "execution_count": null,
   "metadata": {},
   "outputs": [],
   "source": [
    "dataset_stats(train_dataset)\n",
    "dataset_stats(test_dataset)"
   ]
  },
  {
   "cell_type": "code",
   "execution_count": null,
   "metadata": {},
   "outputs": [],
   "source": [
    "\n",
    "def test_example(index, dataset):\n",
    "    data, label = dataset[index]\n",
    "    batched_data = data.unsqueeze(0).to(device=device)\n",
    "    \n",
    "    with torch.no_grad():\n",
    "        pred = model(batched_data).cpu()\n",
    "        pred = F.softmax(pred, dim=-1).squeeze()[1].item()\n",
    "    \n",
    "    return data, label.item(), pred\n",
    "\n",
    "def test_and_print(index, dataset):\n",
    "    fig, axes = plt.subplots(1, 3, figsize=(14, 8))\n",
    "    \n",
    "    data, label, pred = test_example(index, dataset)\n",
    "    \n",
    "    print('Index: ', index)\n",
    "    print('Lablel: ', label)\n",
    "    print('Unhealthy pred: ', pred)\n",
    "    \n",
    "    display_image(data[0].numpy(), box_size, existing_ax=axes)\n",
    "    plt.show()\n",
    "    "
   ]
  },
  {
   "cell_type": "code",
   "execution_count": null,
   "metadata": {},
   "outputs": [],
   "source": [
    "for i in range(5):\n",
    "    test_and_print(i, train_dataset)"
   ]
  },
  {
   "cell_type": "code",
   "execution_count": null,
   "metadata": {},
   "outputs": [],
   "source": [
    "for i in range(5):\n",
    "    test_and_print(i, test_dataset)"
   ]
  },
  {
   "cell_type": "code",
   "execution_count": null,
   "metadata": {},
   "outputs": [],
   "source": []
  },
  {
   "cell_type": "code",
   "execution_count": null,
   "metadata": {},
   "outputs": [],
   "source": []
  }
 ],
 "metadata": {
  "kernelspec": {
   "display_name": "Python 3",
   "language": "python",
   "name": "python3"
  },
  "language_info": {
   "codemirror_mode": {
    "name": "ipython",
    "version": 3
   },
   "file_extension": ".py",
   "mimetype": "text/x-python",
   "name": "python",
   "nbconvert_exporter": "python",
   "pygments_lexer": "ipython3",
   "version": "3.8.5"
  }
 },
 "nbformat": 4,
 "nbformat_minor": 1
}